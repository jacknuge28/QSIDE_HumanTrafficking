{
 "cells": [
  {
   "cell_type": "markdown",
   "id": "374f7fb0",
   "metadata": {},
   "source": [
    "## Bureau of Justice Statistics – Human Trafficking Data Collection Activities, 2021 \n",
    "\n",
    "\n",
    "From the National Survey of Victim Service Providers, [United States], 2019 (ICPSR 38149)\n",
    "\n",
    "**Variable Descriptions found [here](https://www.icpsr.umich.edu/web/NACJD/studies/38149/variables)**.\n",
    "\n",
    "---"
   ]
  },
  {
   "cell_type": "code",
   "execution_count": null,
   "id": "e3ce2c46",
   "metadata": {},
   "outputs": [],
   "source": [
    "import pandas as pd\n",
    "data = pd.read_table(\"../Raw_Data/003.100__NSVSP_data.tsv\")\n",
    "\n",
    "data"
   ]
  },
  {
   "cell_type": "code",
   "execution_count": null,
   "id": "6f3fa772-dc64-4c4f-b06e-835219666371",
   "metadata": {},
   "outputs": [],
   "source": []
  }
 ],
 "metadata": {
  "kernelspec": {
   "display_name": "Python 3 (ipykernel)",
   "language": "python",
   "name": "python3"
  },
  "language_info": {
   "codemirror_mode": {
    "name": "ipython",
    "version": 3
   },
   "file_extension": ".py",
   "mimetype": "text/x-python",
   "name": "python",
   "nbconvert_exporter": "python",
   "pygments_lexer": "ipython3",
   "version": "3.11.3"
  }
 },
 "nbformat": 4,
 "nbformat_minor": 5
}
